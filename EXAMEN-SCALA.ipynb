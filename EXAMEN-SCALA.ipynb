{
 "cells": [
  {
   "cell_type": "markdown",
   "id": "23dc29b7",
   "metadata": {},
   "source": [
    "### EXAMEN SCALE\n",
    "#### Etudiants:\n",
    "    - El Hadji Bassirou DEME 217897\n",
    "    - Oumar Alpha Yaya CISSE 218015\n",
    "    - Mouhamadou Makhtar LY 219287"
   ]
  },
  {
   "cell_type": "markdown",
   "id": "eee0cb4f",
   "metadata": {},
   "source": [
    "### Lecture de la data"
   ]
  },
  {
   "cell_type": "code",
   "execution_count": 1,
   "id": "56d81f34",
   "metadata": {},
   "outputs": [
    {
     "data": {
      "text/plain": [
       "\u001b[32mimport \u001b[39m\u001b[36m$ivy.$                                  \n",
       "\u001b[39m\r\n",
       "\u001b[32mimport \u001b[39m\u001b[36m$ivy.$                               \u001b[39m"
      ]
     },
     "execution_count": 1,
     "metadata": {},
     "output_type": "execute_result"
    }
   ],
   "source": [
    "import $ivy.`org.apache.spark::spark-sql:2.4.5`\n",
    "import $ivy.`sh.almond::almond-spark:0.10.9`"
   ]
  },
  {
   "cell_type": "code",
   "execution_count": 2,
   "id": "8c4f6d2e",
   "metadata": {},
   "outputs": [
    {
     "data": {
      "text/plain": [
       "\u001b[32mimport \u001b[39m\u001b[36morg.apache.log4j.{Level, Logger}\n",
       "\u001b[39m"
      ]
     },
     "execution_count": 2,
     "metadata": {},
     "output_type": "execute_result"
    }
   ],
   "source": [
    "import org.apache.log4j.{Level, Logger}\n",
    "Logger.getLogger(\"org\").setLevel(Level.OFF)"
   ]
  },
  {
   "cell_type": "code",
   "execution_count": 7,
   "id": "cc61569c",
   "metadata": {},
   "outputs": [
    {
     "data": {
      "text/plain": [
       "\u001b[32mimport \u001b[39m\u001b[36morg.apache.spark.sql.{DataFrame, SparkSession}\n",
       "\u001b[39m\r\n",
       "\u001b[32mimport \u001b[39m\u001b[36morg.apache.spark.sql.functions._\n",
       "\u001b[39m\r\n",
       "\u001b[32mimport \u001b[39m\u001b[36morg.apache.spark.sql.SparkSession\n",
       "\u001b[39m\r\n",
       "\u001b[32mimport \u001b[39m\u001b[36morg.apache.spark.sql.functions._\u001b[39m"
      ]
     },
     "execution_count": 7,
     "metadata": {},
     "output_type": "execute_result"
    }
   ],
   "source": [
    "import org.apache.spark.sql.{DataFrame, SparkSession}\n",
    "import org.apache.spark.sql.functions._\n",
    "import org.apache.spark.sql.SparkSession\n",
    "import org.apache.spark.sql.functions._"
   ]
  },
  {
   "cell_type": "code",
   "execution_count": 3,
   "id": "bdbf6f7a",
   "metadata": {},
   "outputs": [
    {
     "name": "stdout",
     "output_type": "stream",
     "text": [
      "Loading spark-stubs\n",
      "Getting spark JARs\n",
      "Creating SparkSession\n"
     ]
    },
    {
     "name": "stderr",
     "output_type": "stream",
     "text": [
      "Using Spark's default log4j profile: org/apache/spark/log4j-defaults.properties\n"
     ]
    },
    {
     "data": {
      "text/html": [
       "<a target=\"_blank\" href=\"http://DESKTOP-QTKLSOP.DKBS.LOCAL:4042\">Spark UI</a>"
      ]
     },
     "metadata": {},
     "output_type": "display_data"
    },
    {
     "data": {
      "text/plain": [
       "\u001b[32mimport \u001b[39m\u001b[36morg.apache.spark.sql._\n",
       "\n",
       "\u001b[39m\r\n",
       "\u001b[36mspark\u001b[39m: \u001b[32mSparkSession\u001b[39m = org.apache.spark.sql.SparkSession@731aa97d"
      ]
     },
     "execution_count": 3,
     "metadata": {},
     "output_type": "execute_result"
    }
   ],
   "source": [
    "import org.apache.spark.sql._\n",
    "\n",
    "val spark = {\n",
    "  NotebookSparkSession.builder()\n",
    "    .master(\"local[*]\")\n",
    "    .getOrCreate()\n",
    "}"
   ]
  },
  {
   "cell_type": "code",
   "execution_count": 8,
   "id": "7ad74fea",
   "metadata": {},
   "outputs": [
    {
     "data": {
      "text/plain": [
       "\u001b[32mimport \u001b[39m\u001b[36mspark.implicits._\u001b[39m"
      ]
     },
     "execution_count": 8,
     "metadata": {},
     "output_type": "execute_result"
    }
   ],
   "source": [
    "import spark.implicits._"
   ]
  },
  {
   "cell_type": "markdown",
   "id": "9ceab51c",
   "metadata": {},
   "source": [
    "### Importation des données"
   ]
  },
  {
   "cell_type": "code",
   "execution_count": 5,
   "id": "21c06cba",
   "metadata": {},
   "outputs": [
    {
     "data": {
      "text/html": [
       "<script>\n",
       "var comm = Jupyter.notebook.kernel.comm_manager.new_comm('cancel-stage-1bb8f9ff-8207-4415-934d-9d4f5dbb0f1a', {});\n",
       "\n",
       "function cancelStage(stageId) {\n",
       "  console.log('Cancelling stage ' + stageId);\n",
       "  comm.send({ 'stageId': stageId });\n",
       "}\n",
       "</script>\n",
       "          "
      ]
     },
     "metadata": {},
     "output_type": "display_data"
    },
    {
     "data": {
      "text/html": [
       "<div>\n",
       "  <span style=\"float: left;\">csv at cmd4.sc:5</span>\n",
       "</div>\n"
      ]
     },
     "metadata": {},
     "output_type": "display_data"
    },
    {
     "data": {
      "text/html": [
       "<div class=\"progress\">\n",
       "  <div class=\"progress-bar\" role=\"progressbar\" style=\"background-color: blue; width: 100%; word-wrap: normal; white-space: nowrap; text-align: center; color: white\" aria-valuenow=\"100\" aria-valuemin=\"0\" aria-valuemax=\"100\">\n",
       "    1 / 1\n",
       "  </div>\n",
       "  <div class=\"progress-bar\" role=\"progressbar\" style=\"background-color: red; width: 0%\" aria-valuenow=\"0\" aria-valuemin=\"0\" aria-valuemax=\"100\"></div>\n",
       "</div>\n"
      ]
     },
     "metadata": {},
     "output_type": "display_data"
    },
    {
     "data": {
      "text/plain": [
       "\u001b[36mpath\u001b[39m: \u001b[32mString\u001b[39m = \u001b[32m\"archive/*\"\u001b[39m\r\n",
       "\u001b[36mdf\u001b[39m: \u001b[32mDataFrame\u001b[39m = [Order ID: string, Product: string ... 4 more fields]"
      ]
     },
     "execution_count": 5,
     "metadata": {},
     "output_type": "execute_result"
    }
   ],
   "source": [
    "val path = \"archive/*\"\n",
    "val df = spark\n",
    "        .read\n",
    "        .option(\"header\",\"true\")\n",
    "        .csv(path)"
   ]
  },
  {
   "cell_type": "markdown",
   "id": "a5ff2b8f",
   "metadata": {},
   "source": [
    "## Chargement des données"
   ]
  },
  {
   "cell_type": "code",
   "execution_count": 6,
   "id": "a3048ca3",
   "metadata": {},
   "outputs": [
    {
     "data": {
      "text/html": [
       "<div>\n",
       "  <span style=\"float: left;\">show at cmd5.sc:1</span>\n",
       "</div>\n"
      ]
     },
     "metadata": {},
     "output_type": "display_data"
    },
    {
     "data": {
      "text/html": [
       "<div class=\"progress\">\n",
       "  <div class=\"progress-bar\" role=\"progressbar\" style=\"background-color: blue; width: 100%; word-wrap: normal; white-space: nowrap; text-align: center; color: white\" aria-valuenow=\"100\" aria-valuemin=\"0\" aria-valuemax=\"100\">\n",
       "    1 / 1\n",
       "  </div>\n",
       "  <div class=\"progress-bar\" role=\"progressbar\" style=\"background-color: red; width: 0%\" aria-valuenow=\"0\" aria-valuemin=\"0\" aria-valuemax=\"100\"></div>\n",
       "</div>\n"
      ]
     },
     "metadata": {},
     "output_type": "display_data"
    },
    {
     "name": "stdout",
     "output_type": "stream",
     "text": [
      "+--------+--------------------+----------------+----------+--------------+--------------------+\n",
      "|Order ID|             Product|Quantity Ordered|Price Each|    Order Date|    Purchase Address|\n",
      "+--------+--------------------+----------------+----------+--------------+--------------------+\n",
      "|  295665|  Macbook Pro Laptop|               1|      1700|12/30/19 00:01|136 Church St, Ne...|\n",
      "|  295666|  LG Washing Machine|               1|     600.0|12/29/19 07:03|562 2nd St, New Y...|\n",
      "|  295667|USB-C Charging Cable|               1|     11.95|12/12/19 18:21|277 Main St, New ...|\n",
      "|  295668|    27in FHD Monitor|               1|    149.99|12/22/19 15:13|410 6th St, San F...|\n",
      "|  295669|USB-C Charging Cable|               1|     11.95|12/18/19 12:38|43 Hill St, Atlan...|\n",
      "|  295670|AA Batteries (4-p...|               1|      3.84|12/31/19 22:58|200 Jefferson St,...|\n",
      "|  295671|USB-C Charging Cable|               1|     11.95|12/16/19 15:10|928 12th St, Port...|\n",
      "|  295672|USB-C Charging Cable|               2|     11.95|12/13/19 09:29|813 Hickory St, D...|\n",
      "|  295673|Bose SoundSport H...|               1|     99.99|12/15/19 23:26|718 Wilson St, Da...|\n",
      "|  295674|AAA Batteries (4-...|               4|      2.99|12/28/19 11:51|77 7th St, Dallas...|\n",
      "|  295675|USB-C Charging Cable|               2|     11.95|12/13/19 13:52|594 1st St, San F...|\n",
      "|  295676|     ThinkPad Laptop|               1|    999.99|12/28/19 17:19|410 Lincoln St, L...|\n",
      "|  295677|AA Batteries (4-p...|               2|      3.84|12/20/19 19:19|866 Pine St, Bost...|\n",
      "|  295678|AAA Batteries (4-...|               2|      2.99|12/06/19 09:38|187 Lincoln St, D...|\n",
      "|  295679|USB-C Charging Cable|               1|     11.95|12/25/19 09:39|902 2nd St, Dalla...|\n",
      "|  295680|Lightning Chargin...|               1|     14.95|12/01/19 14:30|338 Main St, Aust...|\n",
      "|  295681|        Google Phone|               1|       600|12/25/19 12:37|79 Elm St, Boston...|\n",
      "|  295681|USB-C Charging Cable|               1|     11.95|12/25/19 12:37|79 Elm St, Boston...|\n",
      "|  295681|Bose SoundSport H...|               1|     99.99|12/25/19 12:37|79 Elm St, Boston...|\n",
      "|  295681|    Wired Headphones|               1|     11.99|12/25/19 12:37|79 Elm St, Boston...|\n",
      "+--------+--------------------+----------------+----------+--------------+--------------------+\n",
      "only showing top 20 rows\n",
      "\n"
     ]
    }
   ],
   "source": [
    "df.show()"
   ]
  },
  {
   "cell_type": "markdown",
   "id": "1aa905e3",
   "metadata": {},
   "source": [
    "#### Encodage de la variable date"
   ]
  },
  {
   "cell_type": "code",
   "execution_count": 9,
   "id": "1a47fcee",
   "metadata": {},
   "outputs": [
    {
     "data": {
      "text/plain": [
       "\u001b[32mimport \u001b[39m\u001b[36morg.apache.spark.sql.functions.to_timestamp\n",
       "\n",
       "\u001b[39m\r\n",
       "\u001b[36mdfTimestamp\u001b[39m: \u001b[32mDataFrame\u001b[39m = [Order ID: string, Product: string ... 4 more fields]"
      ]
     },
     "execution_count": 9,
     "metadata": {},
     "output_type": "execute_result"
    }
   ],
   "source": [
    "import org.apache.spark.sql.functions.to_timestamp\n",
    "\n",
    "val dfTimestamp = df.withColumn(\"Order Date\", to_timestamp(col(\"Order Date\"), \"MM/dd/yyyy HH:mm\"))"
   ]
  },
  {
   "cell_type": "markdown",
   "id": "5c3395cb",
   "metadata": {},
   "source": [
    "1. Quelle année a été la meilleure en termes de ventes ? Combien a-t-on gagné cette\n",
    "année-là ?"
   ]
  },
  {
   "cell_type": "code",
   "execution_count": 10,
   "id": "d9d1e028",
   "metadata": {},
   "outputs": [
    {
     "data": {
      "text/html": [
       "<div>\n",
       "  <span style=\"float: left;\">first at cmd9.sc:7</span>\n",
       "</div>\n"
      ]
     },
     "metadata": {},
     "output_type": "display_data"
    },
    {
     "data": {
      "text/html": [
       "<div class=\"progress\">\n",
       "  <div class=\"progress-bar\" role=\"progressbar\" style=\"background-color: blue; width: 100%; word-wrap: normal; white-space: nowrap; text-align: center; color: white\" aria-valuenow=\"100\" aria-valuemin=\"0\" aria-valuemax=\"100\">\n",
       "    6 / 6\n",
       "  </div>\n",
       "  <div class=\"progress-bar\" role=\"progressbar\" style=\"background-color: red; width: 0%\" aria-valuenow=\"0\" aria-valuemin=\"0\" aria-valuemax=\"100\"></div>\n",
       "</div>\n"
      ]
     },
     "metadata": {},
     "output_type": "display_data"
    },
    {
     "data": {
      "text/html": [
       "<div>\n",
       "  <span style=\"float: left;\">first at cmd9.sc:7</span>\n",
       "</div>\n"
      ]
     },
     "metadata": {},
     "output_type": "display_data"
    },
    {
     "data": {
      "text/html": [
       "<div class=\"progress\">\n",
       "  <div class=\"progress-bar\" role=\"progressbar\" style=\"background-color: blue; width: 100%; word-wrap: normal; white-space: nowrap; text-align: center; color: white\" aria-valuenow=\"100\" aria-valuemin=\"0\" aria-valuemax=\"100\">\n",
       "    200 / 200\n",
       "  </div>\n",
       "  <div class=\"progress-bar\" role=\"progressbar\" style=\"background-color: red; width: 0%\" aria-valuenow=\"0\" aria-valuemin=\"0\" aria-valuemax=\"100\"></div>\n",
       "</div>\n"
      ]
     },
     "metadata": {},
     "output_type": "display_data"
    },
    {
     "data": {
      "text/html": [
       "<div>\n",
       "  <span style=\"float: left;\">first at cmd9.sc:8</span>\n",
       "</div>\n"
      ]
     },
     "metadata": {},
     "output_type": "display_data"
    },
    {
     "data": {
      "text/html": [
       "<div class=\"progress\">\n",
       "  <div class=\"progress-bar\" role=\"progressbar\" style=\"background-color: blue; width: 100%; word-wrap: normal; white-space: nowrap; text-align: center; color: white\" aria-valuenow=\"100\" aria-valuemin=\"0\" aria-valuemax=\"100\">\n",
       "    6 / 6\n",
       "  </div>\n",
       "  <div class=\"progress-bar\" role=\"progressbar\" style=\"background-color: red; width: 0%\" aria-valuenow=\"0\" aria-valuemin=\"0\" aria-valuemax=\"100\"></div>\n",
       "</div>\n"
      ]
     },
     "metadata": {},
     "output_type": "display_data"
    },
    {
     "data": {
      "text/html": [
       "<div>\n",
       "  <span style=\"float: left;\">first at cmd9.sc:8</span>\n",
       "</div>\n"
      ]
     },
     "metadata": {},
     "output_type": "display_data"
    },
    {
     "data": {
      "text/html": [
       "<div class=\"progress\">\n",
       "  <div class=\"progress-bar\" role=\"progressbar\" style=\"background-color: blue; width: 100%; word-wrap: normal; white-space: nowrap; text-align: center; color: white\" aria-valuenow=\"100\" aria-valuemin=\"0\" aria-valuemax=\"100\">\n",
       "    200 / 200\n",
       "  </div>\n",
       "  <div class=\"progress-bar\" role=\"progressbar\" style=\"background-color: red; width: 0%\" aria-valuenow=\"0\" aria-valuemin=\"0\" aria-valuemax=\"100\"></div>\n",
       "</div>\n"
      ]
     },
     "metadata": {},
     "output_type": "display_data"
    },
    {
     "name": "stdout",
     "output_type": "stream",
     "text": [
      "La meilleur annee est 2019 avec un gain total de 3.379903641001321E7 en terme de ventes.\n"
     ]
    },
    {
     "data": {
      "text/plain": [
       "\u001b[36mdfYear\u001b[39m: \u001b[32mDataset\u001b[39m[\u001b[32mRow\u001b[39m] = [Annee: int, Total: double]\r\n",
       "\u001b[36mbestYear\u001b[39m: \u001b[32mInt\u001b[39m = \u001b[32m19\u001b[39m\r\n",
       "\u001b[36mtotal\u001b[39m: \u001b[32mDouble\u001b[39m = \u001b[32m3.379903641001321E7\u001b[39m"
      ]
     },
     "execution_count": 10,
     "metadata": {},
     "output_type": "execute_result"
    }
   ],
   "source": [
    "val dfYear = dfTimestamp\n",
    "  .groupBy(year(col(\"Order Date\")).as(\"Annee\"))\n",
    "  .agg(sum(col(\"Quantity Ordered\") * col(\"Price Each\")).as(\"Total\"))\n",
    "  .orderBy(desc(\"Total\"))\n",
    "\n",
    "  \n",
    "val bestYear = dfYear.first().getAs[Int](\"Annee\")\n",
    "val total = dfYear.first().getAs[Double](\"Total\")\n",
    "\n",
    "println(s\"La meilleur annee est 20$bestYear avec un gain total de $total en terme de ventes.\")"
   ]
  },
  {
   "cell_type": "markdown",
   "id": "32f5028f",
   "metadata": {},
   "source": [
    "2. Quel mois a été le meilleur en termes de ventes ? Combien a-t-on gagné ce mois-là ?"
   ]
  },
  {
   "cell_type": "code",
   "execution_count": 14,
   "id": "f69beb19",
   "metadata": {},
   "outputs": [
    {
     "data": {
      "text/plain": [
       "\u001b[36mMTH\u001b[39m: \u001b[32mList\u001b[39m[\u001b[32mString\u001b[39m] = \u001b[33mList\u001b[39m(\n",
       "  \u001b[32m\"Janvier\"\u001b[39m,\n",
       "  \u001b[32m\"F\\u00e9vrier\"\u001b[39m,\n",
       "  \u001b[32m\"Mars\"\u001b[39m,\n",
       "  \u001b[32m\"Avril\"\u001b[39m,\n",
       "  \u001b[32m\"Mai\"\u001b[39m,\n",
       "  \u001b[32m\"Juin\"\u001b[39m,\n",
       "  \u001b[32m\"Juillet\"\u001b[39m,\n",
       "  \u001b[32m\"Ao\\u00fbt\"\u001b[39m,\n",
       "  \u001b[32m\"Septembre\"\u001b[39m,\n",
       "  \u001b[32m\"Octobre\"\u001b[39m,\n",
       "  \u001b[32m\"Novembre\"\u001b[39m,\n",
       "  \u001b[32m\"D\\u00e9cembre\"\u001b[39m\n",
       ")"
      ]
     },
     "execution_count": 14,
     "metadata": {},
     "output_type": "execute_result"
    }
   ],
   "source": [
    "val MTH = List(\"Janvier\", \"Février\", \"Mars\", \"Avril\", \"Mai\", \"Juin\", \"Juillet\", \"Août\", \"Septembre\", \"Octobre\", \"Novembre\", \"Décembre\")"
   ]
  },
  {
   "cell_type": "code",
   "execution_count": 19,
   "id": "c09e43eb",
   "metadata": {},
   "outputs": [
    {
     "data": {
      "text/html": [
       "<div>\n",
       "  <span style=\"float: left;\">first at cmd18.sc:6</span>\n",
       "</div>\n"
      ]
     },
     "metadata": {},
     "output_type": "display_data"
    },
    {
     "data": {
      "text/html": [
       "<div class=\"progress\">\n",
       "  <div class=\"progress-bar\" role=\"progressbar\" style=\"background-color: blue; width: 100%; word-wrap: normal; white-space: nowrap; text-align: center; color: white\" aria-valuenow=\"100\" aria-valuemin=\"0\" aria-valuemax=\"100\">\n",
       "    6 / 6\n",
       "  </div>\n",
       "  <div class=\"progress-bar\" role=\"progressbar\" style=\"background-color: red; width: 0%\" aria-valuenow=\"0\" aria-valuemin=\"0\" aria-valuemax=\"100\"></div>\n",
       "</div>\n"
      ]
     },
     "metadata": {},
     "output_type": "display_data"
    },
    {
     "data": {
      "text/html": [
       "<div>\n",
       "  <span style=\"float: left;\">first at cmd18.sc:6</span>\n",
       "</div>\n"
      ]
     },
     "metadata": {},
     "output_type": "display_data"
    },
    {
     "data": {
      "text/html": [
       "<div class=\"progress\">\n",
       "  <div class=\"progress-bar\" role=\"progressbar\" style=\"background-color: blue; width: 100%; word-wrap: normal; white-space: nowrap; text-align: center; color: white\" aria-valuenow=\"100\" aria-valuemin=\"0\" aria-valuemax=\"100\">\n",
       "    200 / 200\n",
       "  </div>\n",
       "  <div class=\"progress-bar\" role=\"progressbar\" style=\"background-color: red; width: 0%\" aria-valuenow=\"0\" aria-valuemin=\"0\" aria-valuemax=\"100\"></div>\n",
       "</div>\n"
      ]
     },
     "metadata": {},
     "output_type": "display_data"
    },
    {
     "data": {
      "text/html": [
       "<div>\n",
       "  <span style=\"float: left;\">first at cmd18.sc:7</span>\n",
       "</div>\n"
      ]
     },
     "metadata": {},
     "output_type": "display_data"
    },
    {
     "data": {
      "text/html": [
       "<div class=\"progress\">\n",
       "  <div class=\"progress-bar\" role=\"progressbar\" style=\"background-color: blue; width: 100%; word-wrap: normal; white-space: nowrap; text-align: center; color: white\" aria-valuenow=\"100\" aria-valuemin=\"0\" aria-valuemax=\"100\">\n",
       "    6 / 6\n",
       "  </div>\n",
       "  <div class=\"progress-bar\" role=\"progressbar\" style=\"background-color: red; width: 0%\" aria-valuenow=\"0\" aria-valuemin=\"0\" aria-valuemax=\"100\"></div>\n",
       "</div>\n"
      ]
     },
     "metadata": {},
     "output_type": "display_data"
    },
    {
     "data": {
      "text/html": [
       "<div>\n",
       "  <span style=\"float: left;\">first at cmd18.sc:7</span>\n",
       "</div>\n"
      ]
     },
     "metadata": {},
     "output_type": "display_data"
    },
    {
     "data": {
      "text/html": [
       "<div class=\"progress\">\n",
       "  <div class=\"progress-bar\" role=\"progressbar\" style=\"background-color: blue; width: 100%; word-wrap: normal; white-space: nowrap; text-align: center; color: white\" aria-valuenow=\"100\" aria-valuemin=\"0\" aria-valuemax=\"100\">\n",
       "    200 / 200\n",
       "  </div>\n",
       "  <div class=\"progress-bar\" role=\"progressbar\" style=\"background-color: red; width: 0%\" aria-valuenow=\"0\" aria-valuemin=\"0\" aria-valuemax=\"100\"></div>\n",
       "</div>\n"
      ]
     },
     "metadata": {},
     "output_type": "display_data"
    },
    {
     "name": "stdout",
     "output_type": "stream",
     "text": [
      "Le meilleur mois est Novembre avec un gain de 3715537.459999819 en terme de vente\n"
     ]
    },
    {
     "data": {
      "text/plain": [
       "\u001b[36mdfMonth\u001b[39m: \u001b[32mDataset\u001b[39m[\u001b[32mRow\u001b[39m] = [Mois: int, Total: double]\r\n",
       "\u001b[36mbestMonth\u001b[39m: \u001b[32mInt\u001b[39m = \u001b[32m11\u001b[39m\r\n",
       "\u001b[36mtotal\u001b[39m: \u001b[32mDouble\u001b[39m = \u001b[32m3715537.459999819\u001b[39m\r\n",
       "\u001b[36mm_month\u001b[39m: \u001b[32mString\u001b[39m = \u001b[32m\"Novembre\"\u001b[39m"
      ]
     },
     "execution_count": 19,
     "metadata": {},
     "output_type": "execute_result"
    }
   ],
   "source": [
    "val dfMonth = dfTimestamp\n",
    "  .groupBy(month(col(\"Order Date\")).alias(\"Mois\"))\n",
    "  .agg(sum(col(\"Quantity Ordered\") * col(\"Price Each\")).as(\"Total\"))\n",
    "  .orderBy(desc(\"Total\"))\n",
    "\n",
    "val bestMonth = dfMonth.first().getAs[Int](\"Mois\")\n",
    "val total = dfMonth.first().getAs[Double](\"Total\")\n",
    "\n",
    "val m_month = MTH(bestMonth-1)\n",
    "println(s\"Le meilleur mois est $m_month avec un gain de $total en terme de vente\")"
   ]
  },
  {
   "cell_type": "markdown",
   "id": "8e51148e",
   "metadata": {},
   "source": [
    "- Le mois qui a été le meilleur en terme de vente est le mois de decembre, avec un gain de 2780850"
   ]
  },
  {
   "cell_type": "markdown",
   "id": "56506cd1",
   "metadata": {},
   "source": [
    "3. Quelle ville a enregistré le plus grand nombre de ventes ?"
   ]
  },
  {
   "cell_type": "code",
   "execution_count": 20,
   "id": "a56986e5",
   "metadata": {},
   "outputs": [
    {
     "data": {
      "text/html": [
       "<div>\n",
       "  <span style=\"float: left;\">first at cmd19.sc:8</span>\n",
       "</div>\n"
      ]
     },
     "metadata": {},
     "output_type": "display_data"
    },
    {
     "data": {
      "text/html": [
       "<div class=\"progress\">\n",
       "  <div class=\"progress-bar\" role=\"progressbar\" style=\"background-color: blue; width: 100%; word-wrap: normal; white-space: nowrap; text-align: center; color: white\" aria-valuenow=\"100\" aria-valuemin=\"0\" aria-valuemax=\"100\">\n",
       "    6 / 6\n",
       "  </div>\n",
       "  <div class=\"progress-bar\" role=\"progressbar\" style=\"background-color: red; width: 0%\" aria-valuenow=\"0\" aria-valuemin=\"0\" aria-valuemax=\"100\"></div>\n",
       "</div>\n"
      ]
     },
     "metadata": {},
     "output_type": "display_data"
    },
    {
     "data": {
      "text/html": [
       "<div>\n",
       "  <span style=\"float: left;\">first at cmd19.sc:8</span>\n",
       "</div>\n"
      ]
     },
     "metadata": {},
     "output_type": "display_data"
    },
    {
     "data": {
      "text/html": [
       "<div class=\"progress\">\n",
       "  <div class=\"progress-bar\" role=\"progressbar\" style=\"background-color: blue; width: 100%; word-wrap: normal; white-space: nowrap; text-align: center; color: white\" aria-valuenow=\"100\" aria-valuemin=\"0\" aria-valuemax=\"100\">\n",
       "    200 / 200\n",
       "  </div>\n",
       "  <div class=\"progress-bar\" role=\"progressbar\" style=\"background-color: red; width: 0%\" aria-valuenow=\"0\" aria-valuemin=\"0\" aria-valuemax=\"100\"></div>\n",
       "</div>\n"
      ]
     },
     "metadata": {},
     "output_type": "display_data"
    },
    {
     "name": "stdout",
     "output_type": "stream",
     "text": [
      "La ville ayant enregistré le plus grand nombre de vente est  San Francisco\n"
     ]
    },
    {
     "data": {
      "text/plain": [
       "\u001b[36mdfCity\u001b[39m: \u001b[32mDataFrame\u001b[39m = [Order ID: string, Product: string ... 5 more fields]\r\n",
       "\u001b[36mdfVenteByCity\u001b[39m: \u001b[32mDataset\u001b[39m[\u001b[32mRow\u001b[39m] = [City: string, Total: bigint]\r\n",
       "\u001b[36mbestCity\u001b[39m: \u001b[32mString\u001b[39m = \u001b[32m\" San Francisco\"\u001b[39m"
      ]
     },
     "execution_count": 20,
     "metadata": {},
     "output_type": "execute_result"
    }
   ],
   "source": [
    "val dfCity = df.withColumn(\"City\", split(col(\"Purchase Address\"), \",\")(1))\n",
    "\n",
    "val dfVenteByCity = dfCity\n",
    "  .groupBy(\"City\")\n",
    "  .agg(count(\"City\").alias(\"Total\"))\n",
    "  .orderBy(desc(\"Total\"))\n",
    "\n",
    "val bestCity = dfVenteByCity.first().getAs[String](\"City\")\n",
    "\n",
    "println(s\"La ville ayant enregistré le plus grand nombre de vente est $bestCity\")"
   ]
  },
  {
   "cell_type": "markdown",
   "id": "4bd52582",
   "metadata": {},
   "source": [
    "4. À quelle heure devraient-ils diffuser des publicités pour maximiser les chances que les\n",
    "clients achètent le produit ?"
   ]
  },
  {
   "cell_type": "code",
   "execution_count": 22,
   "id": "ee719574",
   "metadata": {},
   "outputs": [
    {
     "data": {
      "text/html": [
       "<div>\n",
       "  <span style=\"float: left;\">first at cmd21.sc:3</span>\n",
       "</div>\n"
      ]
     },
     "metadata": {},
     "output_type": "display_data"
    },
    {
     "data": {
      "text/html": [
       "<div class=\"progress\">\n",
       "  <div class=\"progress-bar\" role=\"progressbar\" style=\"background-color: blue; width: 100%; word-wrap: normal; white-space: nowrap; text-align: center; color: white\" aria-valuenow=\"100\" aria-valuemin=\"0\" aria-valuemax=\"100\">\n",
       "    6 / 6\n",
       "  </div>\n",
       "  <div class=\"progress-bar\" role=\"progressbar\" style=\"background-color: red; width: 0%\" aria-valuenow=\"0\" aria-valuemin=\"0\" aria-valuemax=\"100\"></div>\n",
       "</div>\n"
      ]
     },
     "metadata": {},
     "output_type": "display_data"
    },
    {
     "data": {
      "text/html": [
       "<div>\n",
       "  <span style=\"float: left;\">first at cmd21.sc:3</span>\n",
       "</div>\n"
      ]
     },
     "metadata": {},
     "output_type": "display_data"
    },
    {
     "data": {
      "text/html": [
       "<div class=\"progress\">\n",
       "  <div class=\"progress-bar\" role=\"progressbar\" style=\"background-color: blue; width: 100%; word-wrap: normal; white-space: nowrap; text-align: center; color: white\" aria-valuenow=\"100\" aria-valuemin=\"0\" aria-valuemax=\"100\">\n",
       "    200 / 200\n",
       "  </div>\n",
       "  <div class=\"progress-bar\" role=\"progressbar\" style=\"background-color: red; width: 0%\" aria-valuenow=\"0\" aria-valuemin=\"0\" aria-valuemax=\"100\"></div>\n",
       "</div>\n"
      ]
     },
     "metadata": {},
     "output_type": "display_data"
    },
    {
     "name": "stdout",
     "output_type": "stream",
     "text": [
      "Pour maximiser les chances l'heure a la quelle il doit diffuser les publicités est: 19 heure.\n"
     ]
    },
    {
     "data": {
      "text/plain": [
       "\u001b[36mDFhour\u001b[39m: \u001b[32mDataFrame\u001b[39m = [Hour: int]\r\n",
       "\u001b[36mhourBest\u001b[39m: \u001b[32mInt\u001b[39m = \u001b[32m19\u001b[39m"
      ]
     },
     "execution_count": 22,
     "metadata": {},
     "output_type": "execute_result"
    }
   ],
   "source": [
    "val DFhour = dfTimestamp.select(hour($\"Order Date\").alias(\"Hour\"))\n",
    "\n",
    "val hourBest = DFhour.groupBy(\"Hour\").count().orderBy(desc(\"count\")).first().getAs[Int](\"Hour\")\n",
    "\n",
    "println(s\"Pour maximiser les chances l'heure a la quelle il doit diffuser les publicités est: $hourBest heure.\")"
   ]
  },
  {
   "cell_type": "markdown",
   "id": "46bfa2ff",
   "metadata": {},
   "source": [
    "5. Quels produits sont le plus souvent vendus ensemble ?"
   ]
  },
  {
   "cell_type": "code",
   "execution_count": 24,
   "id": "f3ca0256",
   "metadata": {},
   "outputs": [
    {
     "data": {
      "text/html": [
       "<div>\n",
       "  <span style=\"float: left;\">show at cmd23.sc:16</span>\n",
       "</div>\n"
      ]
     },
     "metadata": {},
     "output_type": "display_data"
    },
    {
     "data": {
      "text/html": [
       "<div class=\"progress\">\n",
       "  <div class=\"progress-bar\" role=\"progressbar\" style=\"background-color: blue; width: 100%; word-wrap: normal; white-space: nowrap; text-align: center; color: white\" aria-valuenow=\"100\" aria-valuemin=\"0\" aria-valuemax=\"100\">\n",
       "    6 / 6\n",
       "  </div>\n",
       "  <div class=\"progress-bar\" role=\"progressbar\" style=\"background-color: red; width: 0%\" aria-valuenow=\"0\" aria-valuemin=\"0\" aria-valuemax=\"100\"></div>\n",
       "</div>\n"
      ]
     },
     "metadata": {},
     "output_type": "display_data"
    },
    {
     "data": {
      "text/html": [
       "<div>\n",
       "  <span style=\"float: left;\">show at cmd23.sc:16</span>\n",
       "</div>\n"
      ]
     },
     "metadata": {},
     "output_type": "display_data"
    },
    {
     "data": {
      "text/html": [
       "<div class=\"progress\">\n",
       "  <div class=\"progress-bar\" role=\"progressbar\" style=\"background-color: blue; width: 100%; word-wrap: normal; white-space: nowrap; text-align: center; color: white\" aria-valuenow=\"100\" aria-valuemin=\"0\" aria-valuemax=\"100\">\n",
       "    200 / 200\n",
       "  </div>\n",
       "  <div class=\"progress-bar\" role=\"progressbar\" style=\"background-color: red; width: 0%\" aria-valuenow=\"0\" aria-valuemin=\"0\" aria-valuemax=\"100\"></div>\n",
       "</div>\n"
      ]
     },
     "metadata": {},
     "output_type": "display_data"
    },
    {
     "data": {
      "text/html": [
       "<div>\n",
       "  <span style=\"float: left;\">show at cmd23.sc:16</span>\n",
       "</div>\n"
      ]
     },
     "metadata": {},
     "output_type": "display_data"
    },
    {
     "data": {
      "text/html": [
       "<div class=\"progress\">\n",
       "  <div class=\"progress-bar\" role=\"progressbar\" style=\"background-color: blue; width: 100%; word-wrap: normal; white-space: nowrap; text-align: center; color: white\" aria-valuenow=\"100\" aria-valuemin=\"0\" aria-valuemax=\"100\">\n",
       "    200 / 200\n",
       "  </div>\n",
       "  <div class=\"progress-bar\" role=\"progressbar\" style=\"background-color: red; width: 0%\" aria-valuenow=\"0\" aria-valuemin=\"0\" aria-valuemax=\"100\"></div>\n",
       "</div>\n"
      ]
     },
     "metadata": {},
     "output_type": "display_data"
    },
    {
     "name": "stdout",
     "output_type": "stream",
     "text": [
      "+------------------------+--------------------------+-----------+\n",
      "|Prod 1                  |Prod 2                    |Occurrences|\n",
      "+------------------------+--------------------------+-----------+\n",
      "|Lightning Charging Cable|iPhone                    |1011       |\n",
      "|USB-C Charging Cable    |Google Phone              |997        |\n",
      "|iPhone                  |Wired Headphones          |462        |\n",
      "|Wired Headphones        |Google Phone              |422        |\n",
      "|Apple Airpods Headphones|iPhone                    |373        |\n",
      "|Vareebadd Phone         |USB-C Charging Cable      |368        |\n",
      "|Google Phone            |Bose SoundSport Headphones|228        |\n",
      "|USB-C Charging Cable    |Wired Headphones          |203        |\n",
      "|Vareebadd Phone         |Wired Headphones          |149        |\n",
      "|Lightning Charging Cable|Wired Headphones          |129        |\n",
      "|Lightning Charging Cable|AA Batteries (4-pack)     |106        |\n",
      "|USB-C Charging Cable    |Bose SoundSport Headphones|102        |\n",
      "|Apple Airpods Headphones|Wired Headphones          |100        |\n",
      "|Lightning Charging Cable|USB-C Charging Cable      |100        |\n",
      "|AAA Batteries (4-pack)  |USB-C Charging Cable      |95         |\n",
      "|AAA Batteries (4-pack)  |AA Batteries (4-pack)     |87         |\n",
      "|AAA Batteries (4-pack)  |Wired Headphones          |86         |\n",
      "|AA Batteries (4-pack)   |Wired Headphones          |83         |\n",
      "|Vareebadd Phone         |Bose SoundSport Headphones|82         |\n",
      "|Lightning Charging Cable|Apple Airpods Headphones  |81         |\n",
      "+------------------------+--------------------------+-----------+\n",
      "only showing top 20 rows\n",
      "\n"
     ]
    },
    {
     "data": {
      "text/plain": [
       "\u001b[36mdf1\u001b[39m: \u001b[32mDataFrame\u001b[39m = [Order ID: string, Products: array<string>]\r\n",
       "\u001b[36mPairs\u001b[39m: \u001b[32mDataFrame\u001b[39m = [Prod 1: string, Prod 2: string]\r\n",
       "\u001b[36mPairCounts\u001b[39m: \u001b[32mDataFrame\u001b[39m = [Prod 1: string, Prod 2: string ... 1 more field]\r\n",
       "\u001b[36mresultat\u001b[39m: \u001b[32mDataset\u001b[39m[\u001b[32mRow\u001b[39m] = [Prod 1: string, Prod 2: string ... 1 more field]"
      ]
     },
     "execution_count": 24,
     "metadata": {},
     "output_type": "execute_result"
    }
   ],
   "source": [
    "val df1 = dfTimestamp.groupBy(\"Order ID\")\n",
    "  .agg(collect_set(\"Product\").as(\"Products\"))\n",
    "\n",
    "val Pairs = df1.flatMap { row =>\n",
    "  val products = row.getAs[Seq[String]](\"Products\")\n",
    "  products.combinations(2).map(pair => (pair(0), pair(1)))\n",
    "}.toDF(\"Prod 1\", \"Prod 2\")\n",
    "\n",
    "val PairCounts = Pairs.groupBy(\"Prod 1\", \"Prod 2\")\n",
    "  .count()\n",
    "  .withColumn(\"Occurrences\", col(\"count\").cast(\"Int\"))\n",
    "  .drop(\"count\")\n",
    "\n",
    "val resultat = PairCounts.orderBy(col(\"Occurrences\").desc)\n",
    "\n",
    "resultat.show(truncate=false)"
   ]
  },
  {
   "cell_type": "markdown",
   "id": "7c239462",
   "metadata": {},
   "source": [
    "6. Quel produit s'est le plus vendu ? Pourquoi pensez-vous qu'il se soit autant vendu ?"
   ]
  },
  {
   "cell_type": "code",
   "execution_count": 25,
   "id": "a2a8c4b7",
   "metadata": {},
   "outputs": [
    {
     "data": {
      "text/html": [
       "<div>\n",
       "  <span style=\"float: left;\">first at cmd24.sc:5</span>\n",
       "</div>\n"
      ]
     },
     "metadata": {},
     "output_type": "display_data"
    },
    {
     "data": {
      "text/html": [
       "<div class=\"progress\">\n",
       "  <div class=\"progress-bar\" role=\"progressbar\" style=\"background-color: blue; width: 100%; word-wrap: normal; white-space: nowrap; text-align: center; color: white\" aria-valuenow=\"100\" aria-valuemin=\"0\" aria-valuemax=\"100\">\n",
       "    6 / 6\n",
       "  </div>\n",
       "  <div class=\"progress-bar\" role=\"progressbar\" style=\"background-color: red; width: 0%\" aria-valuenow=\"0\" aria-valuemin=\"0\" aria-valuemax=\"100\"></div>\n",
       "</div>\n"
      ]
     },
     "metadata": {},
     "output_type": "display_data"
    },
    {
     "data": {
      "text/html": [
       "<div>\n",
       "  <span style=\"float: left;\">first at cmd24.sc:5</span>\n",
       "</div>\n"
      ]
     },
     "metadata": {},
     "output_type": "display_data"
    },
    {
     "data": {
      "text/html": [
       "<div class=\"progress\">\n",
       "  <div class=\"progress-bar\" role=\"progressbar\" style=\"background-color: blue; width: 100%; word-wrap: normal; white-space: nowrap; text-align: center; color: white\" aria-valuenow=\"100\" aria-valuemin=\"0\" aria-valuemax=\"100\">\n",
       "    200 / 200\n",
       "  </div>\n",
       "  <div class=\"progress-bar\" role=\"progressbar\" style=\"background-color: red; width: 0%\" aria-valuenow=\"0\" aria-valuemin=\"0\" aria-valuemax=\"100\"></div>\n",
       "</div>\n"
      ]
     },
     "metadata": {},
     "output_type": "display_data"
    },
    {
     "name": "stdout",
     "output_type": "stream",
     "text": [
      "Le produit le plus vendu est : AAA Batteries (4-pack)\n"
     ]
    },
    {
     "data": {
      "text/plain": [
       "\u001b[36mSells\u001b[39m: \u001b[32mDataset\u001b[39m[\u001b[32mRow\u001b[39m] = [Product: string, Total: double]\r\n",
       "\u001b[36mbestItems\u001b[39m: \u001b[32mString\u001b[39m = \u001b[32m\"AAA Batteries (4-pack)\"\u001b[39m"
      ]
     },
     "execution_count": 25,
     "metadata": {},
     "output_type": "execute_result"
    }
   ],
   "source": [
    "val Sells = dfTimestamp.groupBy(\"Product\")\n",
    "  .agg(sum(\"Quantity Ordered\").as(\"Total\"))\n",
    "  .orderBy(col(\"Total\").desc)\n",
    "\n",
    "val bestItems = Sells.first().getAs[String](\"Product\")\n",
    "\n",
    "println(s\"Le produit le plus vendu est : $bestItems\")"
   ]
  },
  {
   "cell_type": "markdown",
   "id": "32ce65e4",
   "metadata": {},
   "source": [
    "- Elle sont autant vendu parcequ'elle ont une qualitité plus durable"
   ]
  },
  {
   "cell_type": "markdown",
   "id": "e9b77d89",
   "metadata": {},
   "source": [
    "7. Quelle est la probabilité que les prochains clients commandent un câble de chargement\n",
    "USB-C ?"
   ]
  },
  {
   "cell_type": "code",
   "execution_count": 26,
   "id": "80b95239",
   "metadata": {},
   "outputs": [
    {
     "data": {
      "text/html": [
       "<div>\n",
       "  <span style=\"float: left;\">count at cmd25.sc:1</span>\n",
       "</div>\n"
      ]
     },
     "metadata": {},
     "output_type": "display_data"
    },
    {
     "data": {
      "text/html": [
       "<div class=\"progress\">\n",
       "  <div class=\"progress-bar\" role=\"progressbar\" style=\"background-color: blue; width: 100%; word-wrap: normal; white-space: nowrap; text-align: center; color: white\" aria-valuenow=\"100\" aria-valuemin=\"0\" aria-valuemax=\"100\">\n",
       "    6 / 6\n",
       "  </div>\n",
       "  <div class=\"progress-bar\" role=\"progressbar\" style=\"background-color: red; width: 0%\" aria-valuenow=\"0\" aria-valuemin=\"0\" aria-valuemax=\"100\"></div>\n",
       "</div>\n"
      ]
     },
     "metadata": {},
     "output_type": "display_data"
    },
    {
     "data": {
      "text/html": [
       "<div>\n",
       "  <span style=\"float: left;\">count at cmd25.sc:1</span>\n",
       "</div>\n"
      ]
     },
     "metadata": {},
     "output_type": "display_data"
    },
    {
     "data": {
      "text/html": [
       "<div class=\"progress\">\n",
       "  <div class=\"progress-bar\" role=\"progressbar\" style=\"background-color: blue; width: 100%; word-wrap: normal; white-space: nowrap; text-align: center; color: white\" aria-valuenow=\"100\" aria-valuemin=\"0\" aria-valuemax=\"100\">\n",
       "    200 / 200\n",
       "  </div>\n",
       "  <div class=\"progress-bar\" role=\"progressbar\" style=\"background-color: red; width: 0%\" aria-valuenow=\"0\" aria-valuemin=\"0\" aria-valuemax=\"100\"></div>\n",
       "</div>\n"
      ]
     },
     "metadata": {},
     "output_type": "display_data"
    },
    {
     "data": {
      "text/html": [
       "<div>\n",
       "  <span style=\"float: left;\">count at cmd25.sc:1</span>\n",
       "</div>\n"
      ]
     },
     "metadata": {},
     "output_type": "display_data"
    },
    {
     "data": {
      "text/html": [
       "<div class=\"progress\">\n",
       "  <div class=\"progress-bar\" role=\"progressbar\" style=\"background-color: blue; width: 100%; word-wrap: normal; white-space: nowrap; text-align: center; color: white\" aria-valuenow=\"100\" aria-valuemin=\"0\" aria-valuemax=\"100\">\n",
       "    1 / 1\n",
       "  </div>\n",
       "  <div class=\"progress-bar\" role=\"progressbar\" style=\"background-color: red; width: 0%\" aria-valuenow=\"0\" aria-valuemin=\"0\" aria-valuemax=\"100\"></div>\n",
       "</div>\n"
      ]
     },
     "metadata": {},
     "output_type": "display_data"
    },
    {
     "data": {
      "text/html": [
       "<div>\n",
       "  <span style=\"float: left;\">count at cmd25.sc:2</span>\n",
       "</div>\n"
      ]
     },
     "metadata": {},
     "output_type": "display_data"
    },
    {
     "data": {
      "text/html": [
       "<div class=\"progress\">\n",
       "  <div class=\"progress-bar\" role=\"progressbar\" style=\"background-color: blue; width: 100%; word-wrap: normal; white-space: nowrap; text-align: center; color: white\" aria-valuenow=\"100\" aria-valuemin=\"0\" aria-valuemax=\"100\">\n",
       "    6 / 6\n",
       "  </div>\n",
       "  <div class=\"progress-bar\" role=\"progressbar\" style=\"background-color: red; width: 0%\" aria-valuenow=\"0\" aria-valuemin=\"0\" aria-valuemax=\"100\"></div>\n",
       "</div>\n"
      ]
     },
     "metadata": {},
     "output_type": "display_data"
    },
    {
     "data": {
      "text/html": [
       "<div>\n",
       "  <span style=\"float: left;\">count at cmd25.sc:2</span>\n",
       "</div>\n"
      ]
     },
     "metadata": {},
     "output_type": "display_data"
    },
    {
     "data": {
      "text/html": [
       "<div class=\"progress\">\n",
       "  <div class=\"progress-bar\" role=\"progressbar\" style=\"background-color: blue; width: 100%; word-wrap: normal; white-space: nowrap; text-align: center; color: white\" aria-valuenow=\"100\" aria-valuemin=\"0\" aria-valuemax=\"100\">\n",
       "    1 / 1\n",
       "  </div>\n",
       "  <div class=\"progress-bar\" role=\"progressbar\" style=\"background-color: red; width: 0%\" aria-valuenow=\"0\" aria-valuemin=\"0\" aria-valuemax=\"100\"></div>\n",
       "</div>\n"
      ]
     },
     "metadata": {},
     "output_type": "display_data"
    },
    {
     "name": "stdout",
     "output_type": "stream",
     "text": [
      "La probabilité que les prochains clients commandent un câble de chargement USB-C est de 0.1227478297905727\n"
     ]
    },
    {
     "data": {
      "text/plain": [
       "\u001b[36mtotalOrders\u001b[39m: \u001b[32mLong\u001b[39m = \u001b[32m178439L\u001b[39m\r\n",
       "\u001b[36musbCOrders\u001b[39m: \u001b[32mLong\u001b[39m = \u001b[32m21903L\u001b[39m\r\n",
       "\u001b[36musbCProbability\u001b[39m: \u001b[32mDouble\u001b[39m = \u001b[32m0.1227478297905727\u001b[39m"
      ]
     },
     "execution_count": 26,
     "metadata": {},
     "output_type": "execute_result"
    }
   ],
   "source": [
    "val totalOrders = dfTimestamp.select(\"Order ID\").distinct().count()\n",
    "val usbCOrders = dfTimestamp.filter(col(\"Product\").contains(\"USB-C Charging Cable\")).count()\n",
    "val usbCProbability = usbCOrders.toDouble / totalOrders.toDouble\n",
    "\n",
    "println(s\"La probabilité que les prochains clients commandent un câble de chargement USB-C est de $usbCProbability\")"
   ]
  },
  {
   "cell_type": "markdown",
   "id": "c9bb3b7b",
   "metadata": {},
   "source": [
    "8. Quelle est la probabilité que les prochains clients commandent un iPhone ?"
   ]
  },
  {
   "cell_type": "code",
   "execution_count": 27,
   "id": "410941bf",
   "metadata": {},
   "outputs": [
    {
     "data": {
      "text/html": [
       "<div>\n",
       "  <span style=\"float: left;\">count at cmd26.sc:1</span>\n",
       "</div>\n"
      ]
     },
     "metadata": {},
     "output_type": "display_data"
    },
    {
     "data": {
      "text/html": [
       "<div class=\"progress\">\n",
       "  <div class=\"progress-bar\" role=\"progressbar\" style=\"background-color: blue; width: 100%; word-wrap: normal; white-space: nowrap; text-align: center; color: white\" aria-valuenow=\"100\" aria-valuemin=\"0\" aria-valuemax=\"100\">\n",
       "    6 / 6\n",
       "  </div>\n",
       "  <div class=\"progress-bar\" role=\"progressbar\" style=\"background-color: red; width: 0%\" aria-valuenow=\"0\" aria-valuemin=\"0\" aria-valuemax=\"100\"></div>\n",
       "</div>\n"
      ]
     },
     "metadata": {},
     "output_type": "display_data"
    },
    {
     "data": {
      "text/html": [
       "<div>\n",
       "  <span style=\"float: left;\">count at cmd26.sc:1</span>\n",
       "</div>\n"
      ]
     },
     "metadata": {},
     "output_type": "display_data"
    },
    {
     "data": {
      "text/html": [
       "<div class=\"progress\">\n",
       "  <div class=\"progress-bar\" role=\"progressbar\" style=\"background-color: blue; width: 100%; word-wrap: normal; white-space: nowrap; text-align: center; color: white\" aria-valuenow=\"100\" aria-valuemin=\"0\" aria-valuemax=\"100\">\n",
       "    200 / 200\n",
       "  </div>\n",
       "  <div class=\"progress-bar\" role=\"progressbar\" style=\"background-color: red; width: 0%\" aria-valuenow=\"0\" aria-valuemin=\"0\" aria-valuemax=\"100\"></div>\n",
       "</div>\n"
      ]
     },
     "metadata": {},
     "output_type": "display_data"
    },
    {
     "data": {
      "text/html": [
       "<div>\n",
       "  <span style=\"float: left;\">count at cmd26.sc:1</span>\n",
       "</div>\n"
      ]
     },
     "metadata": {},
     "output_type": "display_data"
    },
    {
     "data": {
      "text/html": [
       "<div class=\"progress\">\n",
       "  <div class=\"progress-bar\" role=\"progressbar\" style=\"background-color: blue; width: 100%; word-wrap: normal; white-space: nowrap; text-align: center; color: white\" aria-valuenow=\"100\" aria-valuemin=\"0\" aria-valuemax=\"100\">\n",
       "    1 / 1\n",
       "  </div>\n",
       "  <div class=\"progress-bar\" role=\"progressbar\" style=\"background-color: red; width: 0%\" aria-valuenow=\"0\" aria-valuemin=\"0\" aria-valuemax=\"100\"></div>\n",
       "</div>\n"
      ]
     },
     "metadata": {},
     "output_type": "display_data"
    },
    {
     "data": {
      "text/html": [
       "<div>\n",
       "  <span style=\"float: left;\">count at cmd26.sc:2</span>\n",
       "</div>\n"
      ]
     },
     "metadata": {},
     "output_type": "display_data"
    },
    {
     "data": {
      "text/html": [
       "<div class=\"progress\">\n",
       "  <div class=\"progress-bar\" role=\"progressbar\" style=\"background-color: blue; width: 100%; word-wrap: normal; white-space: nowrap; text-align: center; color: white\" aria-valuenow=\"100\" aria-valuemin=\"0\" aria-valuemax=\"100\">\n",
       "    6 / 6\n",
       "  </div>\n",
       "  <div class=\"progress-bar\" role=\"progressbar\" style=\"background-color: red; width: 0%\" aria-valuenow=\"0\" aria-valuemin=\"0\" aria-valuemax=\"100\"></div>\n",
       "</div>\n"
      ]
     },
     "metadata": {},
     "output_type": "display_data"
    },
    {
     "data": {
      "text/html": [
       "<div>\n",
       "  <span style=\"float: left;\">count at cmd26.sc:2</span>\n",
       "</div>\n"
      ]
     },
     "metadata": {},
     "output_type": "display_data"
    },
    {
     "data": {
      "text/html": [
       "<div class=\"progress\">\n",
       "  <div class=\"progress-bar\" role=\"progressbar\" style=\"background-color: blue; width: 100%; word-wrap: normal; white-space: nowrap; text-align: center; color: white\" aria-valuenow=\"100\" aria-valuemin=\"0\" aria-valuemax=\"100\">\n",
       "    1 / 1\n",
       "  </div>\n",
       "  <div class=\"progress-bar\" role=\"progressbar\" style=\"background-color: red; width: 0%\" aria-valuenow=\"0\" aria-valuemin=\"0\" aria-valuemax=\"100\"></div>\n",
       "</div>\n"
      ]
     },
     "metadata": {},
     "output_type": "display_data"
    },
    {
     "name": "stdout",
     "output_type": "stream",
     "text": [
      "La probabilité que les prochains clients commandent un iPhone est de 0.03834363564019076\n"
     ]
    },
    {
     "data": {
      "text/plain": [
       "\u001b[36mtotalOrders\u001b[39m: \u001b[32mLong\u001b[39m = \u001b[32m178439L\u001b[39m\r\n",
       "\u001b[36miPhoneOrders\u001b[39m: \u001b[32mLong\u001b[39m = \u001b[32m6842L\u001b[39m\r\n",
       "\u001b[36miPhoneProbability\u001b[39m: \u001b[32mDouble\u001b[39m = \u001b[32m0.03834363564019076\u001b[39m"
      ]
     },
     "execution_count": 27,
     "metadata": {},
     "output_type": "execute_result"
    }
   ],
   "source": [
    "val totalOrders = dfTimestamp.select(\"Order ID\").distinct().count()\n",
    "val iPhoneOrders = dfTimestamp.filter(col(\"Product\").contains(\"iPhone\")).count()\n",
    "val iPhoneProbability = iPhoneOrders.toDouble / totalOrders.toDouble\n",
    "\n",
    "println(s\"La probabilité que les prochains clients commandent un iPhone est de $iPhoneProbability\")"
   ]
  },
  {
   "cell_type": "markdown",
   "id": "25c4ecb9",
   "metadata": {},
   "source": [
    "9. Quelle est la probabilité que les prochains clients commandent un téléphone Google ?"
   ]
  },
  {
   "cell_type": "code",
   "execution_count": 28,
   "id": "52722b8c",
   "metadata": {},
   "outputs": [
    {
     "data": {
      "text/html": [
       "<div>\n",
       "  <span style=\"float: left;\">count at cmd27.sc:1</span>\n",
       "</div>\n"
      ]
     },
     "metadata": {},
     "output_type": "display_data"
    },
    {
     "data": {
      "text/html": [
       "<div class=\"progress\">\n",
       "  <div class=\"progress-bar\" role=\"progressbar\" style=\"background-color: blue; width: 100%; word-wrap: normal; white-space: nowrap; text-align: center; color: white\" aria-valuenow=\"100\" aria-valuemin=\"0\" aria-valuemax=\"100\">\n",
       "    6 / 6\n",
       "  </div>\n",
       "  <div class=\"progress-bar\" role=\"progressbar\" style=\"background-color: red; width: 0%\" aria-valuenow=\"0\" aria-valuemin=\"0\" aria-valuemax=\"100\"></div>\n",
       "</div>\n"
      ]
     },
     "metadata": {},
     "output_type": "display_data"
    },
    {
     "data": {
      "text/html": [
       "<div>\n",
       "  <span style=\"float: left;\">count at cmd27.sc:1</span>\n",
       "</div>\n"
      ]
     },
     "metadata": {},
     "output_type": "display_data"
    },
    {
     "data": {
      "text/html": [
       "<div class=\"progress\">\n",
       "  <div class=\"progress-bar\" role=\"progressbar\" style=\"background-color: blue; width: 100%; word-wrap: normal; white-space: nowrap; text-align: center; color: white\" aria-valuenow=\"100\" aria-valuemin=\"0\" aria-valuemax=\"100\">\n",
       "    200 / 200\n",
       "  </div>\n",
       "  <div class=\"progress-bar\" role=\"progressbar\" style=\"background-color: red; width: 0%\" aria-valuenow=\"0\" aria-valuemin=\"0\" aria-valuemax=\"100\"></div>\n",
       "</div>\n"
      ]
     },
     "metadata": {},
     "output_type": "display_data"
    },
    {
     "data": {
      "text/html": [
       "<div>\n",
       "  <span style=\"float: left;\">count at cmd27.sc:1</span>\n",
       "</div>\n"
      ]
     },
     "metadata": {},
     "output_type": "display_data"
    },
    {
     "data": {
      "text/html": [
       "<div class=\"progress\">\n",
       "  <div class=\"progress-bar\" role=\"progressbar\" style=\"background-color: blue; width: 100%; word-wrap: normal; white-space: nowrap; text-align: center; color: white\" aria-valuenow=\"100\" aria-valuemin=\"0\" aria-valuemax=\"100\">\n",
       "    1 / 1\n",
       "  </div>\n",
       "  <div class=\"progress-bar\" role=\"progressbar\" style=\"background-color: red; width: 0%\" aria-valuenow=\"0\" aria-valuemin=\"0\" aria-valuemax=\"100\"></div>\n",
       "</div>\n"
      ]
     },
     "metadata": {},
     "output_type": "display_data"
    },
    {
     "data": {
      "text/html": [
       "<div>\n",
       "  <span style=\"float: left;\">count at cmd27.sc:2</span>\n",
       "</div>\n"
      ]
     },
     "metadata": {},
     "output_type": "display_data"
    },
    {
     "data": {
      "text/html": [
       "<div class=\"progress\">\n",
       "  <div class=\"progress-bar\" role=\"progressbar\" style=\"background-color: blue; width: 100%; word-wrap: normal; white-space: nowrap; text-align: center; color: white\" aria-valuenow=\"100\" aria-valuemin=\"0\" aria-valuemax=\"100\">\n",
       "    6 / 6\n",
       "  </div>\n",
       "  <div class=\"progress-bar\" role=\"progressbar\" style=\"background-color: red; width: 0%\" aria-valuenow=\"0\" aria-valuemin=\"0\" aria-valuemax=\"100\"></div>\n",
       "</div>\n"
      ]
     },
     "metadata": {},
     "output_type": "display_data"
    },
    {
     "data": {
      "text/html": [
       "<div>\n",
       "  <span style=\"float: left;\">count at cmd27.sc:2</span>\n",
       "</div>\n"
      ]
     },
     "metadata": {},
     "output_type": "display_data"
    },
    {
     "data": {
      "text/html": [
       "<div class=\"progress\">\n",
       "  <div class=\"progress-bar\" role=\"progressbar\" style=\"background-color: blue; width: 100%; word-wrap: normal; white-space: nowrap; text-align: center; color: white\" aria-valuenow=\"100\" aria-valuemin=\"0\" aria-valuemax=\"100\">\n",
       "    1 / 1\n",
       "  </div>\n",
       "  <div class=\"progress-bar\" role=\"progressbar\" style=\"background-color: red; width: 0%\" aria-valuenow=\"0\" aria-valuemin=\"0\" aria-valuemax=\"100\"></div>\n",
       "</div>\n"
      ]
     },
     "metadata": {},
     "output_type": "display_data"
    },
    {
     "name": "stdout",
     "output_type": "stream",
     "text": [
      "La probabilité que les prochains clients commandent un téléphone Google est de 0.030962962132717622\n"
     ]
    },
    {
     "data": {
      "text/plain": [
       "\u001b[36mtotalOrders\u001b[39m: \u001b[32mLong\u001b[39m = \u001b[32m178439L\u001b[39m\r\n",
       "\u001b[36mgooglePhoneOrders\u001b[39m: \u001b[32mLong\u001b[39m = \u001b[32m5525L\u001b[39m\r\n",
       "\u001b[36mgooglePhoneProbability\u001b[39m: \u001b[32mDouble\u001b[39m = \u001b[32m0.030962962132717622\u001b[39m"
      ]
     },
     "execution_count": 28,
     "metadata": {},
     "output_type": "execute_result"
    }
   ],
   "source": [
    "val totalOrders = dfTimestamp.select(\"Order ID\").distinct().count()\n",
    "val googlePhoneOrders = dfTimestamp.filter(col(\"Product\").contains(\"Google Phone\")).count()\n",
    "val googlePhoneProbability = googlePhoneOrders.toDouble / totalOrders.toDouble\n",
    "\n",
    "println(s\"La probabilité que les prochains clients commandent un téléphone Google est de $googlePhoneProbability\")"
   ]
  },
  {
   "cell_type": "markdown",
   "id": "7e1ee842",
   "metadata": {},
   "source": [
    "10. Quelle est la probabilité que d'autres personnes commandent des écouteurs filaires ?"
   ]
  },
  {
   "cell_type": "code",
   "execution_count": 29,
   "id": "fb233cce",
   "metadata": {},
   "outputs": [
    {
     "data": {
      "text/html": [
       "<div>\n",
       "  <span style=\"float: left;\">count at cmd28.sc:1</span>\n",
       "</div>\n"
      ]
     },
     "metadata": {},
     "output_type": "display_data"
    },
    {
     "data": {
      "text/html": [
       "<div class=\"progress\">\n",
       "  <div class=\"progress-bar\" role=\"progressbar\" style=\"background-color: blue; width: 100%; word-wrap: normal; white-space: nowrap; text-align: center; color: white\" aria-valuenow=\"100\" aria-valuemin=\"0\" aria-valuemax=\"100\">\n",
       "    6 / 6\n",
       "  </div>\n",
       "  <div class=\"progress-bar\" role=\"progressbar\" style=\"background-color: red; width: 0%\" aria-valuenow=\"0\" aria-valuemin=\"0\" aria-valuemax=\"100\"></div>\n",
       "</div>\n"
      ]
     },
     "metadata": {},
     "output_type": "display_data"
    },
    {
     "data": {
      "text/html": [
       "<div>\n",
       "  <span style=\"float: left;\">count at cmd28.sc:1</span>\n",
       "</div>\n"
      ]
     },
     "metadata": {},
     "output_type": "display_data"
    },
    {
     "data": {
      "text/html": [
       "<div class=\"progress\">\n",
       "  <div class=\"progress-bar\" role=\"progressbar\" style=\"background-color: blue; width: 100%; word-wrap: normal; white-space: nowrap; text-align: center; color: white\" aria-valuenow=\"100\" aria-valuemin=\"0\" aria-valuemax=\"100\">\n",
       "    200 / 200\n",
       "  </div>\n",
       "  <div class=\"progress-bar\" role=\"progressbar\" style=\"background-color: red; width: 0%\" aria-valuenow=\"0\" aria-valuemin=\"0\" aria-valuemax=\"100\"></div>\n",
       "</div>\n"
      ]
     },
     "metadata": {},
     "output_type": "display_data"
    },
    {
     "data": {
      "text/html": [
       "<div>\n",
       "  <span style=\"float: left;\">count at cmd28.sc:1</span>\n",
       "</div>\n"
      ]
     },
     "metadata": {},
     "output_type": "display_data"
    },
    {
     "data": {
      "text/html": [
       "<div class=\"progress\">\n",
       "  <div class=\"progress-bar\" role=\"progressbar\" style=\"background-color: blue; width: 100%; word-wrap: normal; white-space: nowrap; text-align: center; color: white\" aria-valuenow=\"100\" aria-valuemin=\"0\" aria-valuemax=\"100\">\n",
       "    1 / 1\n",
       "  </div>\n",
       "  <div class=\"progress-bar\" role=\"progressbar\" style=\"background-color: red; width: 0%\" aria-valuenow=\"0\" aria-valuemin=\"0\" aria-valuemax=\"100\"></div>\n",
       "</div>\n"
      ]
     },
     "metadata": {},
     "output_type": "display_data"
    },
    {
     "data": {
      "text/html": [
       "<div>\n",
       "  <span style=\"float: left;\">count at cmd28.sc:2</span>\n",
       "</div>\n"
      ]
     },
     "metadata": {},
     "output_type": "display_data"
    },
    {
     "data": {
      "text/html": [
       "<div class=\"progress\">\n",
       "  <div class=\"progress-bar\" role=\"progressbar\" style=\"background-color: blue; width: 100%; word-wrap: normal; white-space: nowrap; text-align: center; color: white\" aria-valuenow=\"100\" aria-valuemin=\"0\" aria-valuemax=\"100\">\n",
       "    6 / 6\n",
       "  </div>\n",
       "  <div class=\"progress-bar\" role=\"progressbar\" style=\"background-color: red; width: 0%\" aria-valuenow=\"0\" aria-valuemin=\"0\" aria-valuemax=\"100\"></div>\n",
       "</div>\n"
      ]
     },
     "metadata": {},
     "output_type": "display_data"
    },
    {
     "data": {
      "text/html": [
       "<div>\n",
       "  <span style=\"float: left;\">count at cmd28.sc:2</span>\n",
       "</div>\n"
      ]
     },
     "metadata": {},
     "output_type": "display_data"
    },
    {
     "data": {
      "text/html": [
       "<div class=\"progress\">\n",
       "  <div class=\"progress-bar\" role=\"progressbar\" style=\"background-color: blue; width: 100%; word-wrap: normal; white-space: nowrap; text-align: center; color: white\" aria-valuenow=\"100\" aria-valuemin=\"0\" aria-valuemax=\"100\">\n",
       "    1 / 1\n",
       "  </div>\n",
       "  <div class=\"progress-bar\" role=\"progressbar\" style=\"background-color: red; width: 0%\" aria-valuenow=\"0\" aria-valuemin=\"0\" aria-valuemax=\"100\"></div>\n",
       "</div>\n"
      ]
     },
     "metadata": {},
     "output_type": "display_data"
    },
    {
     "name": "stdout",
     "output_type": "stream",
     "text": [
      "La probabilité que les prochains clients commandent des écouteurs filaires est de 0.10581767438732564\n"
     ]
    },
    {
     "data": {
      "text/plain": [
       "\u001b[36mtotalOrders\u001b[39m: \u001b[32mLong\u001b[39m = \u001b[32m178439L\u001b[39m\r\n",
       "\u001b[36mwiredHeadphoneOrders\u001b[39m: \u001b[32mLong\u001b[39m = \u001b[32m18882L\u001b[39m\r\n",
       "\u001b[36mwiredHeadphoneProbability\u001b[39m: \u001b[32mDouble\u001b[39m = \u001b[32m0.10581767438732564\u001b[39m"
      ]
     },
     "execution_count": 29,
     "metadata": {},
     "output_type": "execute_result"
    }
   ],
   "source": [
    "val totalOrders = dfTimestamp.select(\"Order ID\").distinct().count()\n",
    "val wiredHeadphoneOrders = dfTimestamp.filter(col(\"Product\").contains(\"Wired Headphones\")).count()\n",
    "val wiredHeadphoneProbability = wiredHeadphoneOrders.toDouble / totalOrders.toDouble\n",
    "\n",
    "println(s\"La probabilité que les prochains clients commandent des écouteurs filaires est de $wiredHeadphoneProbability\")"
   ]
  },
  {
   "cell_type": "markdown",
   "id": "1d548178",
   "metadata": {},
   "source": [
    "#### PRATIQUE"
   ]
  },
  {
   "cell_type": "markdown",
   "id": "a3ce6383",
   "metadata": {},
   "source": [
    "Proposer un cas d'utilisation concret de Machine Learning en utilisant cet ensemble de\n",
    "données de ventes. Vous devrez identifier un problème spécifique et proposer un modèle\n",
    "prédictif ou analytique qui peut être utilisé pour résoudre le problème."
   ]
  },
  {
   "cell_type": "markdown",
   "id": "6acf122f",
   "metadata": {},
   "source": [
    "\n",
    "\n",
    "    Chargement des données : Charger l'ensemble de données de ventes dans un DataFrame Spark.\n",
    "\n",
    "    Prétraitement des données : Effectuer des opérations de nettoyage et de transformation sur les données, telles que la suppression des valeurs manquantes, la conversion des types de données appropriés, etc.\n",
    "\n",
    "    Extraction des fonctionnalités : Sélectionner les fonctionnalités pertinentes pour la prédiction des ventes futures, telles que le produit, la quantité commandée, le prix, la date de commande, etc. Convertir ces fonctionnalités en une représentation adaptée à l'apprentissage automatique, par exemple en utilisant des codifications à chaud pour les variables catégorielles.\n",
    "\n",
    "    Division des données : Diviser l'ensemble de données en ensembles d'apprentissage et de test pour évaluer les performances du modèle.\n",
    "\n",
    "    Modélisation : Entraîner un modèle de régression, tel que la régression linéaire, en utilisant les données d'apprentissage. Le modèle prendra en entrée les fonctionnalités sélectionnées et prédira les ventes futures.\n",
    "\n",
    "    Évaluation du modèle : Évaluer les performances du modèle en utilisant les données de test. Mesurer les métriques d'évaluation telles que l'erreur quadratique moyenne (RMSE) ou le coefficient de détermination (R²) pour évaluer la précision du modèle.\n",
    "\n",
    "    Utilisation du modèle pour les prévisions : Une fois que le modèle est entraîné et évalué, il peut être utilisé pour prédire les ventes futures pour de nouvelles données ou des périodes futures. Les fonctionnalités pertinentes de ces nouvelles données doivent être extraites et utilisées comme entrée pour le modèle entraîné.\n",
    "\n",
    "En résumé, en utilisant Spark avec Scala, vous pouvez construire un modèle de régression basé sur les données historiques de ventes pour prédire les ventes futures d'un produit spécifique. Cela permettrait d'aider les entreprises à prendre des décisions éclairées sur la gestion des stocks, la planification de la production, la prévision des revenus, etc."
   ]
  },
  {
   "cell_type": "code",
   "execution_count": null,
   "id": "c4d3261d",
   "metadata": {},
   "outputs": [],
   "source": []
  }
 ],
 "metadata": {
  "kernelspec": {
   "display_name": "Scala",
   "language": "scala",
   "name": "scala"
  },
  "language_info": {
   "codemirror_mode": "text/x-scala",
   "file_extension": ".sc",
   "mimetype": "text/x-scala",
   "name": "scala",
   "nbconvert_exporter": "script",
   "version": "2.12.11"
  }
 },
 "nbformat": 4,
 "nbformat_minor": 5
}
