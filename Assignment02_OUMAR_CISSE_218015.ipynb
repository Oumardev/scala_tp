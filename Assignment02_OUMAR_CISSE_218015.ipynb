{
 "cells": [
  {
   "attachments": {},
   "cell_type": "markdown",
   "metadata": {},
   "source": [
    "###Exercice 1"
   ]
  },
  {
   "cell_type": "code",
   "execution_count": null,
   "metadata": {
    "vscode": {
     "languageId": "plaintext"
    }
   },
   "outputs": [],
   "source": [
    "def addPrefix(prefix: String): String => String = {\n",
    "  str: String => prefix + \" \" + str\n",
    "}"
   ]
  },
  {
   "cell_type": "code",
   "execution_count": null,
   "metadata": {
    "vscode": {
     "languageId": "plaintext"
    }
   },
   "outputs": [],
   "source": [
    "val addHelloPrefix = addPrefix(\"Hello\")\n",
    "println(addHelloPrefix(\"World\")) // \"Hello World\"\n"
   ]
  },
  {
   "attachments": {},
   "cell_type": "markdown",
   "metadata": {},
   "source": [
    "###Exercice 2"
   ]
  },
  {
   "cell_type": "code",
   "execution_count": null,
   "metadata": {
    "vscode": {
     "languageId": "plaintext"
    }
   },
   "outputs": [],
   "source": [
    "def isInList(lst: List[Int]): Int => Boolean = {\n",
    "  num: Int => lst.contains(num)\n",
    "}"
   ]
  },
  {
   "cell_type": "code",
   "execution_count": null,
   "metadata": {
    "vscode": {
     "languageId": "plaintext"
    }
   },
   "outputs": [],
   "source": [
    "val nums = List(1, 2, 3, 4, 5)\n",
    "val isNumInList = isInList(nums)\n",
    "\n",
    "println(isNumInList(3)) // true\n",
    "println(isNumInList(6)) // false"
   ]
  },
  {
   "attachments": {},
   "cell_type": "markdown",
   "metadata": {},
   "source": [
    "###Exercice 3"
   ]
  },
  {
   "cell_type": "code",
   "execution_count": null,
   "metadata": {
    "vscode": {
     "languageId": "plaintext"
    }
   },
   "outputs": [],
   "source": [
    "def isStringInList(lst: List[String]): String => Boolean = {\n",
    "  str: String => lst.contains(str)\n",
    "}\n"
   ]
  },
  {
   "cell_type": "code",
   "execution_count": null,
   "metadata": {
    "vscode": {
     "languageId": "plaintext"
    }
   },
   "outputs": [],
   "source": [
    "val strings = List(\"apple\", \"banana\", \"orange\")\n",
    "val isStringInList = isStringInList(strings)\n",
    "\n",
    "println(isStringInList(\"banana\")) // true\n",
    "println(isStringInList(\"grape\")) // false\n"
   ]
  }
 ],
 "metadata": {
  "language_info": {
   "name": "python"
  },
  "orig_nbformat": 4
 },
 "nbformat": 4,
 "nbformat_minor": 2
}
